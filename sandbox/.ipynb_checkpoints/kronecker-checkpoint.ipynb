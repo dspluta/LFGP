{
 "cells": [
  {
   "cell_type": "code",
   "execution_count": 1,
   "metadata": {
    "collapsed": true
   },
   "outputs": [],
   "source": [
    "import numpy as np\n",
    "from scipy.linalg import logm\n",
    "from scipy.stats import multivariate_normal"
   ]
  },
  {
   "cell_type": "code",
   "execution_count": 2,
   "metadata": {
    "collapsed": true
   },
   "outputs": [],
   "source": [
    "import time"
   ]
  },
  {
   "cell_type": "code",
   "execution_count": 3,
   "metadata": {
    "collapsed": true
   },
   "outputs": [],
   "source": [
    "def kernel_covariance(x, l, s, noise=1e-6):\n",
    "    \"\"\"\n",
    "    Covariance matrix with squared exponential kernel\n",
    "    \"\"\"\n",
    "    t = x.shape[0]\n",
    "    cov_sample = np.zeros((t, t))\n",
    "    for i in range(t):\n",
    "        for j in range(t):\n",
    "            cov_sample[i, j] = s ** 2 * np.exp(-(x[i] - x[j]) ** 2 / (2 * l ** 2))\n",
    "    cov_sample += np.eye(t) * noise  # add noise for numerical stability\n",
    "    return cov_sample"
   ]
  },
  {
   "cell_type": "code",
   "execution_count": 4,
   "metadata": {
    "collapsed": true
   },
   "outputs": [],
   "source": [
    "def gp_marginal_likelihood(y, x, l, s):\n",
    "    \"\"\"\n",
    "    Marginal likelihood of one Gaussian process (multivariate Normal)\n",
    "    \"\"\"\n",
    "    t = y.shape[0]\n",
    "    mu = np.repeat(0, t)\n",
    "    cov = kernel_covariance(x, l, s)\n",
    "    return multivariate_normal.pdf(y, mu, cov)"
   ]
  },
  {
   "cell_type": "code",
   "execution_count": 5,
   "metadata": {
    "collapsed": true
   },
   "outputs": [],
   "source": [
    "def calculate_p(l, s, Y, x, prior_params):\n",
    "    \"\"\"\n",
    "    Calculate log prior and likelihood of n independent Gaussian processes (Y has shape [t, n])\n",
    "    \"\"\"\n",
    "    #a, b, scale = prior_params\n",
    "    #prior = l_gamma_prior(l, a, b)  # * s_half_cauchy_prior(s, scale)\n",
    "    loglik = 0.0\n",
    "    for j in range(Y.shape[1]):\n",
    "        loglik += np.log(gp_marginal_likelihood(Y[:, j], x, l, s))  # independent observations\n",
    "    return loglik"
   ]
  },
  {
   "cell_type": "code",
   "execution_count": 47,
   "metadata": {
    "collapsed": true
   },
   "outputs": [],
   "source": [
    "Y = np.zeros((100, 100))\n",
    "x = np.linspace(0, 1, 100)"
   ]
  },
  {
   "cell_type": "code",
   "execution_count": 59,
   "metadata": {
    "collapsed": false
   },
   "outputs": [
    {
     "name": "stdout",
     "output_type": "stream",
     "text": [
      "49366.43833403917\n",
      "3.74096107483\n"
     ]
    }
   ],
   "source": [
    "start = time.time()\n",
    "for i in range(1):\n",
    "    print(calculate_p(0.12, 1.0, Y, x, 0))\n",
    "end = time.time()\n",
    "print(end - start)"
   ]
  },
  {
   "cell_type": "code",
   "execution_count": 57,
   "metadata": {
    "collapsed": false
   },
   "outputs": [],
   "source": [
    "def calculate_p_new(l, s, Y, x, prior_params):\n",
    "    t, n = Y.shape\n",
    "    cov = kernel_covariance(x, l, s)\n",
    "    inverse = np.linalg.inv(cov)\n",
    "    loglik = 0.0\n",
    "    sign, logdet = np.linalg.slogdet(cov)\n",
    "    constant = -0.5 * logdet - 0.5 * t * np.log(2 * np.pi)\n",
    "    for j in range(Y.shape[1]):\n",
    "        loglik += -0.5 * np.matmul(np.matmul(Y[:, j].reshape((1, t)), inverse), Y[:, j].reshape((t, 1)))[0][0] + constant\n",
    "    return loglik"
   ]
  },
  {
   "cell_type": "code",
   "execution_count": 60,
   "metadata": {
    "collapsed": false
   },
   "outputs": [
    {
     "name": "stdout",
     "output_type": "stream",
     "text": [
      "49366.438333831335\n",
      "0.0406079292297\n"
     ]
    }
   ],
   "source": [
    "start = time.time()\n",
    "for i in range(1):\n",
    "    print(calculate_p_new(0.12, 1.0, Y, x, 0))\n",
    "end = time.time()\n",
    "print(end - start)"
   ]
  },
  {
   "cell_type": "code",
   "execution_count": null,
   "metadata": {
    "collapsed": true
   },
   "outputs": [],
   "source": []
  }
 ],
 "metadata": {
  "anaconda-cloud": {},
  "kernelspec": {
   "display_name": "Python [conda env:tensorflow]",
   "language": "python",
   "name": "conda-env-tensorflow-py"
  },
  "language_info": {
   "codemirror_mode": {
    "name": "ipython",
    "version": 2
   },
   "file_extension": ".py",
   "mimetype": "text/x-python",
   "name": "python",
   "nbconvert_exporter": "python",
   "pygments_lexer": "ipython2",
   "version": "2.7.13"
  }
 },
 "nbformat": 4,
 "nbformat_minor": 1
}
