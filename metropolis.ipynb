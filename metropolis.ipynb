{
 "cells": [
  {
   "cell_type": "code",
   "execution_count": 3,
   "metadata": {
    "collapsed": true
   },
   "outputs": [],
   "source": [
    "import numpy as np\n",
    "from scipy.stats import gamma, cauchy, multivariate_normal, norm"
   ]
  },
  {
   "cell_type": "code",
   "execution_count": 22,
   "metadata": {
    "collapsed": true
   },
   "outputs": [],
   "source": [
    "import matplotlib\n",
    "import matplotlib.pyplot as plt\n",
    "%matplotlib inline"
   ]
  },
  {
   "cell_type": "code",
   "execution_count": 11,
   "metadata": {
    "collapsed": true
   },
   "outputs": [],
   "source": [
    "def accept_reject(accept_prob):\n",
    "    u = np.random.uniform(low=0.0, high=1.0, size=1)\n",
    "    return u < accept_prob"
   ]
  },
  {
   "cell_type": "code",
   "execution_count": 12,
   "metadata": {
    "collapsed": true
   },
   "outputs": [],
   "source": [
    "def l_gamma_prior(l, a, b):\n",
    "    return gamma.pdf(l, a=a, scale=1/b)"
   ]
  },
  {
   "cell_type": "code",
   "execution_count": 13,
   "metadata": {
    "collapsed": true
   },
   "outputs": [],
   "source": [
    "def s_half_cauchy_prior(s, scale):\n",
    "    return 2 * cauchy.pdf(s, loc=0, scale=scale)"
   ]
  },
  {
   "cell_type": "code",
   "execution_count": 14,
   "metadata": {
    "collapsed": true
   },
   "outputs": [],
   "source": [
    "def kernel_covariance(x, l, s, noise=1e-3):\n",
    "    t = x.shape[0]\n",
    "    cov_sample = np.zeros((t, t))\n",
    "    for i in range(t):\n",
    "        for j in range(t):\n",
    "            cov_sample[i, j] = s ** 2 * np.exp(-(x[i] - x[j]) ** 2 / (2 * l ** 2))\n",
    "    cov_sample += np.eye(t) * noise\n",
    "    return cov_sample"
   ]
  },
  {
   "cell_type": "code",
   "execution_count": 15,
   "metadata": {
    "collapsed": true
   },
   "outputs": [],
   "source": [
    "def gp_marginal_likelihood(y, x, l, s):\n",
    "    t = y.shape[0]\n",
    "    mu = np.repeat(0, t)\n",
    "    cov = kernel_covariance(x, l, s)\n",
    "    return multivariate_normal.pdf(y, mu, cov)"
   ]
  },
  {
   "cell_type": "code",
   "execution_count": 31,
   "metadata": {
    "collapsed": true
   },
   "outputs": [],
   "source": [
    "def propose_new(current, std):\n",
    "    value = -1\n",
    "    while value < 0:\n",
    "        value = np.random.normal(loc=current, scale=std, size=1)\n",
    "    return value"
   ]
  },
  {
   "cell_type": "code",
   "execution_count": 32,
   "metadata": {
    "collapsed": true
   },
   "outputs": [],
   "source": [
    "def calculate_p(l, s, y, x, prior_params):\n",
    "    a, b, scale = prior_params\n",
    "    return l_gamma_prior(l, a, b) * s_half_cauchy_prior(s, scale) * gp_marginal_likelihood(y, x, l, s)"
   ]
  },
  {
   "cell_type": "code",
   "execution_count": 33,
   "metadata": {
    "collapsed": false
   },
   "outputs": [],
   "source": [
    "def metropolis_update(l, s, y, x, prior_params, proposal_params):\n",
    "    p_current = calculate_p(l, s, y, x, prior_params)\n",
    "\n",
    "    l_new = propose_new(l, proposal_params[0])\n",
    "    s_new = propose_new(s, proposal_params[1])\n",
    "\n",
    "    p_new = calculate_p(l_new, s_new, y, x, prior_params)\n",
    "    \n",
    "    if accept_reject(p_new / p_current):\n",
    "        return l_new, s_new\n",
    "    else:\n",
    "        return l, s"
   ]
  },
  {
   "cell_type": "code",
   "execution_count": 64,
   "metadata": {
    "collapsed": true
   },
   "outputs": [],
   "source": [
    "from tqdm import tqdm as tqdm"
   ]
  },
  {
   "cell_type": "code",
   "execution_count": 65,
   "metadata": {
    "collapsed": false
   },
   "outputs": [],
   "source": [
    "def metropolis_sample(n_iter, y, x, prior_params=[10, 0.1, 0.5], proposal_params=[0.5, 0.5]):\n",
    "    l = propose_new(1, proposal_params[0])\n",
    "    s = propose_new(1, proposal_params[1])\n",
    "    \n",
    "    l_trace = []\n",
    "    s_trace = []\n",
    "    for i in tqdm(range(n_iter)):\n",
    "        l, s = metropolis_update(l, s, y, x, prior_params, proposal_params)\n",
    "        l_trace.append(l)\n",
    "        s_trace.append(s)\n",
    "        #for j in range(10):\n",
    "        #    extra = gp_marginal_likelihood(y, x, l, s)\n",
    "    \n",
    "    return l_trace, s_trace"
   ]
  },
  {
   "cell_type": "code",
   "execution_count": 66,
   "metadata": {
    "collapsed": true
   },
   "outputs": [],
   "source": [
    "x = np.linspace(0.1, 10, 100)\n",
    "y = np.sin(x) + np.random.normal(0, 0.01, 100)"
   ]
  },
  {
   "cell_type": "code",
   "execution_count": 67,
   "metadata": {
    "collapsed": false
   },
   "outputs": [
    {
     "data": {
      "image/png": "[encoded data removed]",
      "text/plain": [
       "<matplotlib.figure.Figure at 0x11664f450>"
      ]
     },
     "metadata": {},
     "output_type": "display_data"
    }
   ],
   "source": [
    "plt.plot(x, y)\n",
    "plt.show()"
   ]
  },
  {
   "cell_type": "code",
   "execution_count": 68,
   "metadata": {
    "collapsed": true
   },
   "outputs": [],
   "source": [
    "import time"
   ]
  },
  {
   "cell_type": "code",
   "execution_count": 69,
   "metadata": {
    "collapsed": false
   },
   "outputs": [
    {
     "name": "stdout",
     "output_type": "stream",
     "text": [
      "2.05952000618\n"
     ]
    }
   ],
   "source": [
    "t0 = time.time()\n",
    "\n",
    "for i in range(50):\n",
    "    l = 1 + i * 0.01\n",
    "    s = 1 + i * 0.01\n",
    "    gp_marginal_likelihood(y, x, l, s)\n",
    "    \n",
    "t1 = time.time()\n",
    "print(t1 - t0)"
   ]
  },
  {
   "cell_type": "code",
   "execution_count": 70,
   "metadata": {
    "collapsed": false
   },
   "outputs": [
    {
     "name": "stderr",
     "output_type": "stream",
     "text": [
      "100%|██████████| 50/50 [01:02<00:00,  1.25s/it]"
     ]
    },
    {
     "name": "stdout",
     "output_type": "stream",
     "text": [
      "62.2289600372\n"
     ]
    },
    {
     "name": "stderr",
     "output_type": "stream",
     "text": [
      "\n"
     ]
    }
   ],
   "source": [
    "t0 = time.time()\n",
    "\n",
    "test = metropolis_sample(50, y, x)\n",
    "\n",
    "t1 = time.time()\n",
    "print(t1 - t0)"
   ]
  },
  {
   "cell_type": "code",
   "execution_count": 71,
   "metadata": {
    "collapsed": false
   },
   "outputs": [
    {
     "data": {
      "image/png": "[encoded data removed]",
      "text/plain": [
       "<matplotlib.figure.Figure at 0x11670a6d0>"
      ]
     },
     "metadata": {},
     "output_type": "display_data"
    }
   ],
   "source": [
    "plt.plot(test[0])\n",
    "plt.plot(test[1])\n",
    "plt.show()"
   ]
  },
  {
   "cell_type": "code",
   "execution_count": 73,
   "metadata": {
    "collapsed": false
   },
   "outputs": [],
   "source": [
    "from gibbs import *"
   ]
  },
  {
   "cell_type": "code",
   "execution_count": 85,
   "metadata": {
    "collapsed": true
   },
   "outputs": [],
   "source": [
    "mu_0 = np.repeat(0, 10)  # prior mean 0 for regression coefficients\n",
    "Sigma_0 = np.diag(np.repeat(1, 10))  # prior variance 1\n",
    "a_0 = 1  # Inverse-Gamma(1, 1) is fairly diffused\n",
    "b_0 = 1"
   ]
  },
  {
   "cell_type": "code",
   "execution_count": 86,
   "metadata": {
    "collapsed": true
   },
   "outputs": [],
   "source": [
    "F = np.random.normal(0, 1, [10000, 10])\n",
    "loading = np.random.normal(0, 1, [10, 100])\n",
    "Y = np.matmul(F, loading) + np.random.normal(0, 0.1, [10000, 100])"
   ]
  },
  {
   "cell_type": "code",
   "execution_count": 87,
   "metadata": {
    "collapsed": false
   },
   "outputs": [
    {
     "name": "stdout",
     "output_type": "stream",
     "text": [
      "0.16050195694\n"
     ]
    }
   ],
   "source": [
    "t0 = time.time()\n",
    "\n",
    "loading_matrix, Y_variance = blr_mv(Y, F, mu_0, Sigma_0, a_0, b_0)\n",
    "\n",
    "t1 = time.time()\n",
    "print(t1 - t0)"
   ]
  },
  {
   "cell_type": "code",
   "execution_count": 95,
   "metadata": {
    "collapsed": true
   },
   "outputs": [],
   "source": [
    "cov1 = kernel_covariance(x, 1.0, 1.0)\n",
    "cov2 = kernel_covariance(x, 1.0, 1.0)\n",
    "loading_matrix = np.random.normal(0, 1, [2, 20])\n",
    "Y_variance = np.random.normal(0, 1, 20) ** 2\n",
    "Y = np.random.normal(0, 1, [100, 20])"
   ]
  },
  {
   "cell_type": "code",
   "execution_count": 96,
   "metadata": {
    "collapsed": false
   },
   "outputs": [
    {
     "name": "stdout",
     "output_type": "stream",
     "text": [
      "34.1250851154\n"
     ]
    }
   ],
   "source": [
    "t0 = time.time()\n",
    "\n",
    "for i in range(50):\n",
    "    S1, S2, S3, S4 = build_covariance_blocks([cov1, cov2], loading_matrix, Y_variance)\n",
    "    F_new, cov_new = sample_conditional_F(Y, S1, S2, S3, S4, debug=True)\n",
    "    \n",
    "t1 = time.time()\n",
    "print(t1 - t0)"
   ]
  },
  {
   "cell_type": "code",
   "execution_count": null,
   "metadata": {
    "collapsed": true
   },
   "outputs": [],
   "source": []
  }
 ],
 "metadata": {
  "anaconda-cloud": {},
  "kernelspec": {
   "display_name": "Python [conda env:tensorflow]",
   "language": "python",
   "name": "conda-env-tensorflow-py"
  },
  "language_info": {
   "codemirror_mode": {
    "name": "ipython",
    "version": 2
   },
   "file_extension": ".py",
   "mimetype": "text/x-python",
   "name": "python",
   "nbconvert_exporter": "python",
   "pygments_lexer": "ipython2",
   "version": "2.7.13"
  }
 },
 "nbformat": 4,
 "nbformat_minor": 1
}
