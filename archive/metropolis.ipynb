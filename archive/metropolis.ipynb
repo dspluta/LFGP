{
 "cells": [
  {
   "cell_type": "code",
   "execution_count": 1,
   "metadata": {
    "collapsed": true
   },
   "outputs": [],
   "source": [
    "import numpy as np\n",
    "from scipy.stats import gamma, cauchy, multivariate_normal, norm"
   ]
  },
  {
   "cell_type": "code",
   "execution_count": 2,
   "metadata": {
    "collapsed": true
   },
   "outputs": [],
   "source": [
    "import matplotlib\n",
    "import matplotlib.pyplot as plt\n",
    "%matplotlib inline"
   ]
  },
  {
   "cell_type": "code",
   "execution_count": 3,
   "metadata": {
    "collapsed": true
   },
   "outputs": [],
   "source": [
    "def accept_reject(accept_prob):\n",
    "    u = np.random.uniform(low=0.0, high=1.0, size=1)\n",
    "    return u < accept_prob"
   ]
  },
  {
   "cell_type": "code",
   "execution_count": 4,
   "metadata": {
    "collapsed": true
   },
   "outputs": [],
   "source": [
    "def l_gamma_prior(l, a, b):\n",
    "    return gamma.pdf(l, a=a, scale=1/b)"
   ]
  },
  {
   "cell_type": "code",
   "execution_count": 5,
   "metadata": {
    "collapsed": true
   },
   "outputs": [],
   "source": [
    "def s_half_cauchy_prior(s, scale):\n",
    "    return 2 * cauchy.pdf(s, loc=0, scale=scale)"
   ]
  },
  {
   "cell_type": "code",
   "execution_count": 6,
   "metadata": {
    "collapsed": true
   },
   "outputs": [],
   "source": [
    "def kernel_covariance(x, l, s, noise=1e-3):\n",
    "    t = x.shape[0]\n",
    "    cov_sample = np.zeros((t, t))\n",
    "    for i in range(t):\n",
    "        for j in range(t):\n",
    "            cov_sample[i, j] = s ** 2 * np.exp(-(x[i] - x[j]) ** 2 / (2 * l ** 2))\n",
    "    cov_sample += np.eye(t) * noise\n",
    "    return cov_sample"
   ]
  },
  {
   "cell_type": "code",
   "execution_count": 7,
   "metadata": {
    "collapsed": true
   },
   "outputs": [],
   "source": [
    "def gp_marginal_likelihood(y, x, l, s):\n",
    "    t = y.shape[0]\n",
    "    mu = np.repeat(0, t)\n",
    "    cov = kernel_covariance(x, l, s)\n",
    "    return multivariate_normal.pdf(y, mu, cov)"
   ]
  },
  {
   "cell_type": "code",
   "execution_count": 8,
   "metadata": {
    "collapsed": true
   },
   "outputs": [],
   "source": [
    "def propose_new(current, std):\n",
    "    value = -1\n",
    "    while value < 0:\n",
    "        value = np.random.normal(loc=current, scale=std, size=1)\n",
    "    return value"
   ]
  },
  {
   "cell_type": "code",
   "execution_count": 9,
   "metadata": {
    "collapsed": true
   },
   "outputs": [],
   "source": [
    "def calculate_p(l, s, y, x, prior_params):\n",
    "    a, b, scale = prior_params\n",
    "    return l_gamma_prior(l, a, b) * s_half_cauchy_prior(s, scale) * gp_marginal_likelihood(y, x, l, s)"
   ]
  },
  {
   "cell_type": "code",
   "execution_count": 13,
   "metadata": {
    "collapsed": true
   },
   "outputs": [],
   "source": [
    "def calculate_p_new(l, s, Y, x, prior_params):\n",
    "    a, b, scale = prior_params\n",
    "    prior = l_gamma_prior(l, a, b) #* s_half_cauchy_prior(s, scale)\n",
    "    loglik = 0.0\n",
    "    for j in range(Y.shape[1]):\n",
    "        #print(np.log(gp_marginal_likelihood(Y[:, j], x, l, s)))\n",
    "        loglik += np.log(gp_marginal_likelihood(Y[:, j], x, l, s)) # independent observations\n",
    "    return np.log(prior) + loglik"
   ]
  },
  {
   "cell_type": "code",
   "execution_count": 14,
   "metadata": {
    "collapsed": false
   },
   "outputs": [],
   "source": [
    "def metropolis_update(l, s, y, x, prior_params, proposal_params):\n",
    "    p_current = calculate_p(l, s, y, x, prior_params)\n",
    "\n",
    "    l_new = propose_new(l, proposal_params[0])\n",
    "    s_new = propose_new(s, proposal_params[1])\n",
    "\n",
    "    p_new = calculate_p(l_new, s_new, y, x, prior_params)\n",
    "    \n",
    "    if accept_reject(p_new / p_current):\n",
    "        return l_new, s_new\n",
    "    else:\n",
    "        return l, s"
   ]
  },
  {
   "cell_type": "code",
   "execution_count": 15,
   "metadata": {
    "collapsed": true
   },
   "outputs": [],
   "source": [
    "def metropolis_update_new(l, s, p, Y, x, prior_params, proposal_params):\n",
    "    l_new = propose_new(l, proposal_params[0])\n",
    "    #s_new = propose_new(s, proposal_params[1])\n",
    "    s_new = 1.0\n",
    "    \n",
    "    p_new = calculate_p_new(l_new, s_new, Y, x, prior_params)\n",
    "    \n",
    "    if accept_reject(np.exp(p_new - p)):\n",
    "        return l_new, s_new, p_new\n",
    "    else:\n",
    "        return l, s, p"
   ]
  },
  {
   "cell_type": "code",
   "execution_count": 16,
   "metadata": {
    "collapsed": true
   },
   "outputs": [],
   "source": [
    "from tqdm import tqdm as tqdm"
   ]
  },
  {
   "cell_type": "code",
   "execution_count": 17,
   "metadata": {
    "collapsed": false
   },
   "outputs": [],
   "source": [
    "def metropolis_sample(n_iter, y, x, prior_params=[10, 0.1, 0.5], proposal_params=[0.5, 0.5]):\n",
    "    l = propose_new(1, proposal_params[0])\n",
    "    s = propose_new(1, proposal_params[1])\n",
    "    \n",
    "    l_trace = []\n",
    "    s_trace = []\n",
    "    for i in tqdm(range(n_iter)):\n",
    "        l, s = metropolis_update(l, s, y, x, prior_params, proposal_params)\n",
    "        l_trace.append(l)\n",
    "        s_trace.append(s)\n",
    "    \n",
    "    return l_trace, s_trace"
   ]
  },
  {
   "cell_type": "code",
   "execution_count": 33,
   "metadata": {
    "collapsed": true
   },
   "outputs": [],
   "source": [
    "def metropolis_sample_new(n_iter, Y, x, prior_params=[10, 0.1, 0.5], proposal_params=[0.1, 0.1]):\n",
    "    l = propose_new(1, proposal_params[0])\n",
    "    #s = propose_new(1, proposal_params[1])\n",
    "    s = 1.0\n",
    "    p = calculate_p_new(l, s, Y, x, prior_params)\n",
    "    \n",
    "    l_trace = []\n",
    "    s_trace = []\n",
    "    for i in tqdm(range(n_iter)):\n",
    "        l, s, p = metropolis_update_new(l, s, p, Y, x, prior_params, proposal_params)\n",
    "        l_trace.append(l)\n",
    "        s_trace.append(s)\n",
    "        #for j in range(10):\n",
    "        #    extra = gp_marginal_likelihood(y, x, l, s)\n",
    "    \n",
    "    return l_trace, s_trace"
   ]
  },
  {
   "cell_type": "code",
   "execution_count": 19,
   "metadata": {
    "collapsed": true
   },
   "outputs": [],
   "source": [
    "from sklearn.gaussian_process import GaussianProcessRegressor\n",
    "from sklearn.gaussian_process.kernels import RBF"
   ]
  },
  {
   "cell_type": "code",
   "execution_count": 20,
   "metadata": {
    "collapsed": true
   },
   "outputs": [],
   "source": [
    "gp = GaussianProcessRegressor(kernel=RBF())"
   ]
  },
  {
   "cell_type": "code",
   "execution_count": 21,
   "metadata": {
    "collapsed": false
   },
   "outputs": [],
   "source": [
    "x = np.linspace(0.1, 5, 50)\n",
    "Y = gp.sample_y(x.reshape((50, 1)), 10) + np.random.normal(0, 0.01, [50, 10])\n",
    "y = Y[:, 0]\n",
    "#y = np.sin(x) + np.random.normal(0, 0.01, 50)"
   ]
  },
  {
   "cell_type": "code",
   "execution_count": 22,
   "metadata": {
    "collapsed": false
   },
   "outputs": [
    {
     "name": "stdout",
     "output_type": "stream",
     "text": [
      "(50, 10)\n"
     ]
    }
   ],
   "source": [
    "print(Y.shape)"
   ]
  },
  {
   "cell_type": "code",
   "execution_count": 23,
   "metadata": {
    "collapsed": false
   },
   "outputs": [
    {
     "data": {
      "image/png": "[encoded data removed]",
      "text/plain": [
       "<matplotlib.figure.Figure at 0x11fde11d0>"
      ]
     },
     "metadata": {},
     "output_type": "display_data"
    }
   ],
   "source": [
    "plt.plot(x, y)\n",
    "plt.show()"
   ]
  },
  {
   "cell_type": "code",
   "execution_count": 24,
   "metadata": {
    "collapsed": true
   },
   "outputs": [],
   "source": [
    "import time"
   ]
  },
  {
   "cell_type": "code",
   "execution_count": 25,
   "metadata": {
    "collapsed": false
   },
   "outputs": [
    {
     "name": "stdout",
     "output_type": "stream",
     "text": [
      "0.0952670574188\n"
     ]
    }
   ],
   "source": [
    "t0 = time.time()\n",
    "\n",
    "for i in range(10):\n",
    "    l = 1 + i * 0.01\n",
    "    s = 1 + i * 0.01\n",
    "    gp_marginal_likelihood(y, x, l, s)\n",
    "    #gp_marginal_likelihood(y, x, l, s)\n",
    "    \n",
    "t1 = time.time()\n",
    "print(t1 - t0)"
   ]
  },
  {
   "cell_type": "code",
   "execution_count": 34,
   "metadata": {
    "collapsed": false
   },
   "outputs": [
    {
     "name": "stderr",
     "output_type": "stream",
     "text": [
      "100%|██████████| 500/500 [01:35<00:00,  5.32it/s]"
     ]
    },
    {
     "name": "stdout",
     "output_type": "stream",
     "text": [
      "95.6952311993\n"
     ]
    },
    {
     "name": "stderr",
     "output_type": "stream",
     "text": [
      "\n"
     ]
    }
   ],
   "source": [
    "t0 = time.time()\n",
    "\n",
    "test = metropolis_sample_new(500, Y, x)\n",
    "\n",
    "t1 = time.time()\n",
    "print(t1 - t0)"
   ]
  },
  {
   "cell_type": "code",
   "execution_count": 35,
   "metadata": {
    "collapsed": false
   },
   "outputs": [
    {
     "data": {
      "image/png": "[encoded data removed]",
      "text/plain": [
       "<matplotlib.figure.Figure at 0x124095250>"
      ]
     },
     "metadata": {},
     "output_type": "display_data"
    }
   ],
   "source": [
    "plt.plot(test[0])\n",
    "plt.plot(test[1])\n",
    "plt.show()"
   ]
  },
  {
   "cell_type": "code",
   "execution_count": 143,
   "metadata": {
    "collapsed": false
   },
   "outputs": [],
   "source": [
    "import pymc3 as pm"
   ]
  },
  {
   "cell_type": "code",
   "execution_count": 146,
   "metadata": {
    "collapsed": false
   },
   "outputs": [
    {
     "name": "stderr",
     "output_type": "stream",
     "text": [
      "Only 100 samples in chain.\n",
      "Multiprocess sampling (2 chains in 2 jobs)\n",
      "CompoundStep\n",
      ">Metropolis: [s]\n",
      ">Metropolis: [l]\n",
      "The gelman-rubin statistic is larger than 1.2 for some parameters.\n",
      "The number of effective samples is smaller than 10% for some parameters.\n"
     ]
    },
    {
     "name": "stdout",
     "output_type": "stream",
     "text": [
      "46.1658730507\n"
     ]
    }
   ],
   "source": [
    "t0 = time.time()\n",
    "\n",
    "with pm.Model() as model:\n",
    "    l = pm.Gamma('l', 10, 0.1)  # informative prior for length scale\n",
    "    s = pm.HalfCauchy('s', 0.5)  # recommended prior for scale parameter\n",
    "    K = s ** 2 * pm.gp.cov.ExpQuad(1, l)  \n",
    "    gp = pm.gp.Marginal(cov_func=K)\n",
    "    y_ = gp.marginal_likelihood('y', X=x.reshape((500, 1)), y=y, noise=1e-3)\n",
    "    trace = pm.sample(100, Metropolis())\n",
    "    \n",
    "t1 = time.time()\n",
    "print(t1 - t0)"
   ]
  },
  {
   "cell_type": "code",
   "execution_count": 150,
   "metadata": {
    "collapsed": false
   },
   "outputs": [
    {
     "data": {
      "image/png": "[encoded data removed]",
      "text/plain": [
       "<matplotlib.figure.Figure at 0x12a5cb850>"
      ]
     },
     "metadata": {},
     "output_type": "display_data"
    }
   ],
   "source": [
    "plt.plot(trace['s'])\n",
    "plt.plot(trace['l'])\n",
    "plt.show()"
   ]
  },
  {
   "cell_type": "code",
   "execution_count": 73,
   "metadata": {
    "collapsed": false
   },
   "outputs": [],
   "source": [
    "from gibbs import *"
   ]
  },
  {
   "cell_type": "code",
   "execution_count": 85,
   "metadata": {
    "collapsed": true
   },
   "outputs": [],
   "source": [
    "mu_0 = np.repeat(0, 10)  # prior mean 0 for regression coefficients\n",
    "Sigma_0 = np.diag(np.repeat(1, 10))  # prior variance 1\n",
    "a_0 = 1  # Inverse-Gamma(1, 1) is fairly diffused\n",
    "b_0 = 1"
   ]
  },
  {
   "cell_type": "code",
   "execution_count": 86,
   "metadata": {
    "collapsed": true
   },
   "outputs": [],
   "source": [
    "F = np.random.normal(0, 1, [10000, 10])\n",
    "loading = np.random.normal(0, 1, [10, 100])\n",
    "Y = np.matmul(F, loading) + np.random.normal(0, 0.1, [10000, 100])"
   ]
  },
  {
   "cell_type": "code",
   "execution_count": 87,
   "metadata": {
    "collapsed": false
   },
   "outputs": [
    {
     "name": "stdout",
     "output_type": "stream",
     "text": [
      "0.16050195694\n"
     ]
    }
   ],
   "source": [
    "t0 = time.time()\n",
    "\n",
    "loading_matrix, Y_variance = blr_mv(Y, F, mu_0, Sigma_0, a_0, b_0)\n",
    "\n",
    "t1 = time.time()\n",
    "print(t1 - t0)"
   ]
  },
  {
   "cell_type": "code",
   "execution_count": 95,
   "metadata": {
    "collapsed": true
   },
   "outputs": [],
   "source": [
    "cov1 = kernel_covariance(x, 1.0, 1.0)\n",
    "cov2 = kernel_covariance(x, 1.0, 1.0)\n",
    "loading_matrix = np.random.normal(0, 1, [2, 20])\n",
    "Y_variance = np.random.normal(0, 1, 20) ** 2\n",
    "Y = np.random.normal(0, 1, [100, 20])"
   ]
  },
  {
   "cell_type": "code",
   "execution_count": 96,
   "metadata": {
    "collapsed": false
   },
   "outputs": [
    {
     "name": "stdout",
     "output_type": "stream",
     "text": [
      "34.1250851154\n"
     ]
    }
   ],
   "source": [
    "t0 = time.time()\n",
    "\n",
    "for i in range(50):\n",
    "    S1, S2, S3, S4 = build_covariance_blocks([cov1, cov2], loading_matrix, Y_variance)\n",
    "    F_new, cov_new = sample_conditional_F(Y, S1, S2, S3, S4, debug=True)\n",
    "    \n",
    "t1 = time.time()\n",
    "print(t1 - t0)"
   ]
  },
  {
   "cell_type": "code",
   "execution_count": null,
   "metadata": {
    "collapsed": true
   },
   "outputs": [],
   "source": []
  }
 ],
 "metadata": {
  "anaconda-cloud": {},
  "kernelspec": {
   "display_name": "Python [conda env:tensorflow]",
   "language": "python",
   "name": "conda-env-tensorflow-py"
  },
  "language_info": {
   "codemirror_mode": {
    "name": "ipython",
    "version": 2
   },
   "file_extension": ".py",
   "mimetype": "text/x-python",
   "name": "python",
   "nbconvert_exporter": "python",
   "pygments_lexer": "ipython2",
   "version": "2.7.13"
  }
 },
 "nbformat": 4,
 "nbformat_minor": 1
}
